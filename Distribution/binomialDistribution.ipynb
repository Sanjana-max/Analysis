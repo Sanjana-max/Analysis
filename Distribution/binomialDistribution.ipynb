{
 "cells": [
  {
   "cell_type": "markdown",
   "id": "c50f12c1",
   "metadata": {},
   "source": [
    "# Binomial Distribution"
   ]
  },
  {
   "cell_type": "markdown",
   "id": "d39d5d2a",
   "metadata": {},
   "source": []
  }
 ],
 "metadata": {
  "language_info": {
   "name": "python"
  }
 },
 "nbformat": 4,
 "nbformat_minor": 5
}
