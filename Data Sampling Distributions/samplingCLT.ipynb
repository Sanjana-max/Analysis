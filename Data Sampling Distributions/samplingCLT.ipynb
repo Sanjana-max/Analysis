{
 "cells": [
  {
   "cell_type": "markdown",
   "id": "b0c6d3ea",
   "metadata": {},
   "source": [
    "# Sampling Distribution & Confidence Interval"
   ]
  },
  {
   "cell_type": "markdown",
   "id": "5ef6cc6e",
   "metadata": {},
   "source": [
    "# Sampling\n",
    "\n",
    "*To infer a value, you can infer it from the entire population or from a fraction of the population, which is called the sample.*"
   ]
  },
  {
   "cell_type": "code",
   "execution_count": 99,
   "id": "ecbb3001",
   "metadata": {},
   "outputs": [],
   "source": [
    "import pandas as pd\n",
    "import numpy as np\n",
    "import seaborn as sns"
   ]
  },
  {
   "cell_type": "code",
   "execution_count": 100,
   "id": "f8a460f5",
   "metadata": {},
   "outputs": [],
   "source": [
    "df = pd.read_csv('C:\\\\Users\\\\sunta\\\\OneDrive\\\\Desktop\\\\data\\\\sampling\\\\wine\\\\winequality-red.csv', index_col=False)"
   ]
  },
  {
   "cell_type": "code",
   "execution_count": 101,
   "id": "68ebf7b2",
   "metadata": {},
   "outputs": [
    {
     "data": {
      "text/html": [
       "<div>\n",
       "<style scoped>\n",
       "    .dataframe tbody tr th:only-of-type {\n",
       "        vertical-align: middle;\n",
       "    }\n",
       "\n",
       "    .dataframe tbody tr th {\n",
       "        vertical-align: top;\n",
       "    }\n",
       "\n",
       "    .dataframe thead th {\n",
       "        text-align: right;\n",
       "    }\n",
       "</style>\n",
       "<table border=\"1\" class=\"dataframe\">\n",
       "  <thead>\n",
       "    <tr style=\"text-align: right;\">\n",
       "      <th></th>\n",
       "      <th>fixed acidity</th>\n",
       "      <th>volatile acidity</th>\n",
       "      <th>citric acid</th>\n",
       "      <th>residual sugar</th>\n",
       "      <th>chlorides</th>\n",
       "      <th>free sulfur dioxide</th>\n",
       "      <th>total sulfur dioxide</th>\n",
       "      <th>density</th>\n",
       "      <th>pH</th>\n",
       "      <th>sulphates</th>\n",
       "      <th>alcohol</th>\n",
       "      <th>quality</th>\n",
       "    </tr>\n",
       "  </thead>\n",
       "  <tbody>\n",
       "    <tr>\n",
       "      <th>0</th>\n",
       "      <td>7.4</td>\n",
       "      <td>0.70</td>\n",
       "      <td>0.00</td>\n",
       "      <td>1.9</td>\n",
       "      <td>0.076</td>\n",
       "      <td>11.0</td>\n",
       "      <td>34.0</td>\n",
       "      <td>0.9978</td>\n",
       "      <td>3.51</td>\n",
       "      <td>0.56</td>\n",
       "      <td>9.4</td>\n",
       "      <td>5</td>\n",
       "    </tr>\n",
       "    <tr>\n",
       "      <th>1</th>\n",
       "      <td>7.8</td>\n",
       "      <td>0.88</td>\n",
       "      <td>0.00</td>\n",
       "      <td>2.6</td>\n",
       "      <td>0.098</td>\n",
       "      <td>25.0</td>\n",
       "      <td>67.0</td>\n",
       "      <td>0.9968</td>\n",
       "      <td>3.20</td>\n",
       "      <td>0.68</td>\n",
       "      <td>9.8</td>\n",
       "      <td>5</td>\n",
       "    </tr>\n",
       "    <tr>\n",
       "      <th>2</th>\n",
       "      <td>7.8</td>\n",
       "      <td>0.76</td>\n",
       "      <td>0.04</td>\n",
       "      <td>2.3</td>\n",
       "      <td>0.092</td>\n",
       "      <td>15.0</td>\n",
       "      <td>54.0</td>\n",
       "      <td>0.9970</td>\n",
       "      <td>3.26</td>\n",
       "      <td>0.65</td>\n",
       "      <td>9.8</td>\n",
       "      <td>5</td>\n",
       "    </tr>\n",
       "    <tr>\n",
       "      <th>3</th>\n",
       "      <td>11.2</td>\n",
       "      <td>0.28</td>\n",
       "      <td>0.56</td>\n",
       "      <td>1.9</td>\n",
       "      <td>0.075</td>\n",
       "      <td>17.0</td>\n",
       "      <td>60.0</td>\n",
       "      <td>0.9980</td>\n",
       "      <td>3.16</td>\n",
       "      <td>0.58</td>\n",
       "      <td>9.8</td>\n",
       "      <td>6</td>\n",
       "    </tr>\n",
       "    <tr>\n",
       "      <th>4</th>\n",
       "      <td>7.4</td>\n",
       "      <td>0.70</td>\n",
       "      <td>0.00</td>\n",
       "      <td>1.9</td>\n",
       "      <td>0.076</td>\n",
       "      <td>11.0</td>\n",
       "      <td>34.0</td>\n",
       "      <td>0.9978</td>\n",
       "      <td>3.51</td>\n",
       "      <td>0.56</td>\n",
       "      <td>9.4</td>\n",
       "      <td>5</td>\n",
       "    </tr>\n",
       "  </tbody>\n",
       "</table>\n",
       "</div>"
      ],
      "text/plain": [
       "   fixed acidity  volatile acidity  citric acid  residual sugar  chlorides  \\\n",
       "0            7.4              0.70         0.00             1.9      0.076   \n",
       "1            7.8              0.88         0.00             2.6      0.098   \n",
       "2            7.8              0.76         0.04             2.3      0.092   \n",
       "3           11.2              0.28         0.56             1.9      0.075   \n",
       "4            7.4              0.70         0.00             1.9      0.076   \n",
       "\n",
       "   free sulfur dioxide  total sulfur dioxide  density    pH  sulphates  \\\n",
       "0                 11.0                  34.0   0.9978  3.51       0.56   \n",
       "1                 25.0                  67.0   0.9968  3.20       0.68   \n",
       "2                 15.0                  54.0   0.9970  3.26       0.65   \n",
       "3                 17.0                  60.0   0.9980  3.16       0.58   \n",
       "4                 11.0                  34.0   0.9978  3.51       0.56   \n",
       "\n",
       "   alcohol  quality  \n",
       "0      9.4        5  \n",
       "1      9.8        5  \n",
       "2      9.8        5  \n",
       "3      9.8        6  \n",
       "4      9.4        5  "
      ]
     },
     "execution_count": 101,
     "metadata": {},
     "output_type": "execute_result"
    }
   ],
   "source": [
    "df.head()"
   ]
  },
  {
   "cell_type": "code",
   "execution_count": 102,
   "id": "61271cf0",
   "metadata": {},
   "outputs": [],
   "source": [
    "np.random.seed(10)\n",
    "sample_7_above = df[df['quality']>=7].sample(10)[['alcohol']]"
   ]
  },
  {
   "cell_type": "code",
   "execution_count": 103,
   "id": "51dc1fec",
   "metadata": {},
   "outputs": [
    {
     "data": {
      "text/html": [
       "<div>\n",
       "<style scoped>\n",
       "    .dataframe tbody tr th:only-of-type {\n",
       "        vertical-align: middle;\n",
       "    }\n",
       "\n",
       "    .dataframe tbody tr th {\n",
       "        vertical-align: top;\n",
       "    }\n",
       "\n",
       "    .dataframe thead th {\n",
       "        text-align: right;\n",
       "    }\n",
       "</style>\n",
       "<table border=\"1\" class=\"dataframe\">\n",
       "  <thead>\n",
       "    <tr style=\"text-align: right;\">\n",
       "      <th></th>\n",
       "      <th>alcohol</th>\n",
       "    </tr>\n",
       "  </thead>\n",
       "  <tbody>\n",
       "    <tr>\n",
       "      <th>947</th>\n",
       "      <td>12.400000</td>\n",
       "    </tr>\n",
       "    <tr>\n",
       "      <th>1132</th>\n",
       "      <td>13.600000</td>\n",
       "    </tr>\n",
       "    <tr>\n",
       "      <th>945</th>\n",
       "      <td>11.100000</td>\n",
       "    </tr>\n",
       "    <tr>\n",
       "      <th>978</th>\n",
       "      <td>11.300000</td>\n",
       "    </tr>\n",
       "    <tr>\n",
       "      <th>583</th>\n",
       "      <td>9.900000</td>\n",
       "    </tr>\n",
       "    <tr>\n",
       "      <th>1475</th>\n",
       "      <td>13.566667</td>\n",
       "    </tr>\n",
       "    <tr>\n",
       "      <th>281</th>\n",
       "      <td>9.900000</td>\n",
       "    </tr>\n",
       "    <tr>\n",
       "      <th>375</th>\n",
       "      <td>11.800000</td>\n",
       "    </tr>\n",
       "    <tr>\n",
       "      <th>996</th>\n",
       "      <td>12.800000</td>\n",
       "    </tr>\n",
       "    <tr>\n",
       "      <th>1107</th>\n",
       "      <td>11.700000</td>\n",
       "    </tr>\n",
       "  </tbody>\n",
       "</table>\n",
       "</div>"
      ],
      "text/plain": [
       "        alcohol\n",
       "947   12.400000\n",
       "1132  13.600000\n",
       "945   11.100000\n",
       "978   11.300000\n",
       "583    9.900000\n",
       "1475  13.566667\n",
       "281    9.900000\n",
       "375   11.800000\n",
       "996   12.800000\n",
       "1107  11.700000"
      ]
     },
     "execution_count": 103,
     "metadata": {},
     "output_type": "execute_result"
    }
   ],
   "source": [
    "sample_7_above"
   ]
  },
  {
   "cell_type": "markdown",
   "id": "750ed97a",
   "metadata": {},
   "source": [
    "# Mean & Standard Deviation of the sample"
   ]
  },
  {
   "cell_type": "code",
   "execution_count": 104,
   "id": "10c414e8",
   "metadata": {},
   "outputs": [],
   "source": [
    "mean = np.round((np.mean(sample_7_above['alcohol'])),2)\n",
    "std = np.round((np.std(sample_7_above['alcohol'])),2)"
   ]
  },
  {
   "cell_type": "code",
   "execution_count": 105,
   "id": "417c55b2",
   "metadata": {},
   "outputs": [
    {
     "name": "stdout",
     "output_type": "stream",
     "text": [
      "Printing sample mean 11.81\n",
      "Printing standard deviation 1.25\n"
     ]
    }
   ],
   "source": [
    "print('Printing sample mean', mean)\n",
    "print('Printing standard deviation',std)"
   ]
  },
  {
   "cell_type": "code",
   "execution_count": 106,
   "id": "2a9d4ee8",
   "metadata": {},
   "outputs": [
    {
     "data": {
      "text/plain": [
       "<seaborn.axisgrid.FacetGrid at 0x13658244e80>"
      ]
     },
     "execution_count": 106,
     "metadata": {},
     "output_type": "execute_result"
    },
    {
     "data": {
      "image/png": "[encoded data removed]",
      "text/plain": [
       "<Figure size 500x500 with 1 Axes>"
      ]
     },
     "metadata": {},
     "output_type": "display_data"
    }
   ],
   "source": [
    "sns.displot(data=sample_7_above,x='alcohol', kind='kde')"
   ]
  },
  {
   "cell_type": "markdown",
   "id": "eacec928",
   "metadata": {},
   "source": [
    "*The point estimates are never perfect, they always have an error component. This is commenly referred to as \"margin of error\".*"
   ]
  },
  {
   "cell_type": "code",
   "execution_count": 107,
   "id": "c7a79f74",
   "metadata": {},
   "outputs": [],
   "source": [
    "seed = range(10)\n",
    "mean = []\n",
    "std_dev = []\n",
    "\n",
    "for s in seed:\n",
    "    np.random.seed(s)\n",
    "    sample_7_above = df[df['alcohol']>=7].sample(10)\n",
    "    mean.append(np.round((np.mean(sample_7_above['alcohol'])),2))\n",
    "    std_dev.append(np.round((np.std(sample_7_above['alcohol'])),2))\n"
   ]
  },
  {
   "cell_type": "code",
   "execution_count": 108,
   "id": "a0c8389f",
   "metadata": {},
   "outputs": [],
   "source": [
    "sample = pd.DataFrame(columns=['Mean', 'Std Dev'], data=list(zip(mean, std_dev)))"
   ]
  },
  {
   "cell_type": "markdown",
   "id": "1dbce716",
   "metadata": {},
   "source": [
    "Expected value (mean) of the X̄:\n",
    "\n",
    "E(X¯n)=μ\n",
    " \n",
    "The expected value of the of the X̄ = population mean.\n",
    "\n",
    "Points to consider from this:\n",
    "The expected value of X̄ is the best estimate for μ. But for this we have to take all the possible samples from the population, which is not our goal.\n",
    "\n",
    "The best we are going to do is to come up with a range (or interval) for the value of μ\n",
    "\n",
    "But our interval estimate will be affected by sample size and degree of \"confidence\"."
   ]
  },
  {
   "cell_type": "markdown",
   "id": "c0044597",
   "metadata": {},
   "source": [
    "*Influence of sample size.*\n",
    "\n",
    "If we had taken 20 samples insted of 10, what will the value of our 𝜎𝑥 be?\n",
    "\n",
    "σx¯=1.5520−−√=0.34\n",
    "\n",
    "It does down by 0.15. What if we took 100 samples?\n",
    "\n",
    "σx¯=1.55100−−−√=0.155\n",
    "\n",
    "Another way to think about that is as the number of samples increases, we are getting a value of X̄ closer to the actual population mean μ.\n",
    "\n",
    "Important implication of that: The standard error of the mean will remain the SAME for ANY sample of size 10.\n",
    "\n",
    "In our case, for any batch of 10 samples, the standard error of the mean will always remain 0.49 (assuming population standard deviation remains the same)."
   ]
  },
  {
   "cell_type": "markdown",
   "id": "6eaf06f8",
   "metadata": {},
   "source": [
    "# Central Limit Theorem"
   ]
  },
  {
   "cell_type": "markdown",
   "id": "4b1f59e3",
   "metadata": {},
   "source": [
    "*If we take many samples from population of any shape, then if we do a distribution of sample means, it will be normal*"
   ]
  },
  {
   "cell_type": "code",
   "execution_count": 109,
   "id": "a6871257",
   "metadata": {},
   "outputs": [
    {
     "data": {
      "text/plain": [
       "<Axes: xlabel='alcohol', ylabel='Count'>"
      ]
     },
     "execution_count": 109,
     "metadata": {},
     "output_type": "execute_result"
    },
    {
     "data": {
      "image/png": "[encoded data removed]",
      "text/plain": [
       "<Figure size 640x480 with 1 Axes>"
      ]
     },
     "metadata": {},
     "output_type": "display_data"
    }
   ],
   "source": [
    "# Original distribution\n",
    "sns.histplot(df['alcohol'],kde=True)\n",
    "# Right skewed normal distribution. This is not central limit theorm, we need to take samples and means"
   ]
  },
  {
   "cell_type": "code",
   "execution_count": 110,
   "id": "f626b08d",
   "metadata": {},
   "outputs": [
    {
     "data": {
      "text/plain": [
       "(10, 12)"
      ]
     },
     "execution_count": 110,
     "metadata": {},
     "output_type": "execute_result"
    }
   ],
   "source": [
    "sample_7_above.shape"
   ]
  },
  {
   "cell_type": "code",
   "execution_count": 111,
   "id": "9eaceb99",
   "metadata": {},
   "outputs": [],
   "source": [
    "# 100 different samples\n",
    "seed = range(100)\n",
    "mean=[]\n",
    "\n",
    "for s in seed:\n",
    "    np.random.seed(s)\n",
    "    samples = df[df['alcohol']>=7].sample(10)\n",
    "    mean.append(np.round((np.mean(samples)),2))"
   ]
  },
  {
   "cell_type": "code",
   "execution_count": 112,
   "id": "d61fd121",
   "metadata": {},
   "outputs": [
    {
     "data": {
      "text/plain": [
       "<Axes: ylabel='Count'>"
      ]
     },
     "execution_count": 112,
     "metadata": {},
     "output_type": "execute_result"
    },
    {
     "data": {
      "image/png": "[encoded data removed]",
      "text/plain": [
       "<Figure size 640x480 with 1 Axes>"
      ]
     },
     "metadata": {},
     "output_type": "display_data"
    }
   ],
   "source": [
    "# 100 times random sample of 10. We are getting close to CLT. \n",
    "sns.histplot(mean, kde=True)"
   ]
  },
  {
   "cell_type": "code",
   "execution_count": 113,
   "id": "26300f7c",
   "metadata": {},
   "outputs": [],
   "source": [
    "seed = range(1000)\n",
    "mean =[]\n",
    "\n",
    "for s in seed:\n",
    "    np.random.seed(s)\n",
    "    sample_500=df[df['alcohol']>=7].sample(10)\n",
    "    mean.append(np.round((np.mean(sample_500)),2))"
   ]
  },
  {
   "cell_type": "code",
   "execution_count": 114,
   "id": "e471f076",
   "metadata": {},
   "outputs": [
    {
     "data": {
      "text/plain": [
       "<Axes: ylabel='Count'>"
      ]
     },
     "execution_count": 114,
     "metadata": {},
     "output_type": "execute_result"
    },
    {
     "data": {
      "image/png": "[encoded data removed]",
      "text/plain": [
       "<Figure size 640x480 with 1 Axes>"
      ]
     },
     "metadata": {},
     "output_type": "display_data"
    }
   ],
   "source": [
    "sns.histplot(mean, kde=True)\n",
    "# CLT"
   ]
  },
  {
   "cell_type": "markdown",
   "id": "a7e40681",
   "metadata": {},
   "source": [
    "Read better -https://www.kaggle.com/code/gireeshs/learn-statistics-1-sampling-sample-distribution/notebook"
   ]
  },
  {
   "cell_type": "markdown",
   "id": "f6f65d5f",
   "metadata": {},
   "source": [
    "Youtube - https://www.youtube.com/watch?v=4v41z3HwLaM"
   ]
  },
  {
   "cell_type": "markdown",
   "id": "16eb6d51",
   "metadata": {},
   "source": []
  }
 ],
 "metadata": {
  "kernelspec": {
   "display_name": "Python 3",
   "language": "python",
   "name": "python3"
  },
  "language_info": {
   "codemirror_mode": {
    "name": "ipython",
    "version": 3
   },
   "file_extension": ".py",
   "mimetype": "text/x-python",
   "name": "python",
   "nbconvert_exporter": "python",
   "pygments_lexer": "ipython3",
   "version": "3.10.6"
  }
 },
 "nbformat": 4,
 "nbformat_minor": 5
}
