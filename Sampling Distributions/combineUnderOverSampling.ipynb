{
 "cells": [
  {
   "cell_type": "markdown",
   "id": "32c2d109",
   "metadata": {},
   "source": [
    "# Combining Under & Over Sampling"
   ]
  },
  {
   "cell_type": "markdown",
   "id": "9d2d3b81",
   "metadata": {},
   "source": [
    "Oversampling gives the model more signals to learn from the minority class\n",
    "\n",
    "Undersampling removes noisy/confusing majority class points (especially borderline ones)\n",
    "\n",
    "Together, they improve class balance, boundary clarity, and model performance"
   ]
  },
  {
   "cell_type": "markdown",
   "id": "2ef99e28",
   "metadata": {},
   "source": []
  }
 ],
 "metadata": {
  "language_info": {
   "name": "python"
  }
 },
 "nbformat": 4,
 "nbformat_minor": 5
}
