{
 "cells": [
  {
   "cell_type": "markdown",
   "id": "32c2d109",
   "metadata": {},
   "source": [
    "# Combining Under & Over Sampling"
   ]
  },
  {
   "cell_type": "markdown",
   "id": "9d2d3b81",
   "metadata": {},
   "source": [
    "Oversampling gives the model more signals to learn from the minority class\n",
    "\n",
    "Undersampling removes noisy/confusing majority class points (especially borderline ones)\n",
    "\n",
    "Together, they improve class balance, boundary clarity, and model performance\n",
    "\n",
    "*Article: https://towardsdatascience.com/imbalanced-classification-in-python-smote-tomek-links-method-6e48dfe69bbc/*"
   ]
  },
  {
   "cell_type": "code",
   "execution_count": 2,
   "id": "5575c4f2",
   "metadata": {},
   "outputs": [],
   "source": [
    "import pandas as pd\n",
    "import seaborn as sns"
   ]
  },
  {
   "cell_type": "code",
   "execution_count": 3,
   "id": "73d7aaae",
   "metadata": {},
   "outputs": [],
   "source": [
    "df=pd.read_csv(r\"C:\\\\Users\\\\sunta\\\\OneDrive\\\\Desktop\\\\data\\\\sampling\\\\hear_data\\\\heart_2020_cleaned.csv\")"
   ]
  },
  {
   "cell_type": "code",
   "execution_count": 4,
   "id": "fe4641d0",
   "metadata": {},
   "outputs": [],
   "source": [
    "from sklearn.model_selection import  cross_val_score\n",
    "# now you can import normally from model_selection\n",
    "from sklearn.metrics import accuracy_score, recall_score, precision_score, f1_score, roc_auc_score\n",
    "from sklearn.preprocessing import StandardScaler\n",
    "from sklearn.model_selection import train_test_split\n",
    "from sklearn.linear_model import LogisticRegression\n",
    "from sklearn import metrics\n",
    "from sklearn.preprocessing import LabelEncoder\n",
    "\n",
    "\n",
    "le = LabelEncoder()\n",
    "df1 = df.copy(deep = True)\n",
    "\n",
    "\n",
    "col = list(df.columns)\n",
    "categorical_features = []\n",
    "numerical_features = []\n",
    "for i in df1.columns:\n",
    "    if len(df[i].unique()) > 6:\n",
    "        numerical_features.append(i)\n",
    "    else:\n",
    "        df1[i]=le.fit_transform(df1[i])\n",
    "        categorical_features.append(i)"
   ]
  },
  {
   "cell_type": "code",
   "execution_count": 5,
   "id": "fdefab45",
   "metadata": {},
   "outputs": [],
   "source": [
    "X=df1.drop(['HeartDisease',\"Race\"], axis=1)\n",
    "y=df1['HeartDisease']\n",
    "X = X.drop(columns=['AgeCategory'])"
   ]
  },
  {
   "cell_type": "markdown",
   "id": "e57c4f8a",
   "metadata": {},
   "source": [
    "# SMOTETomek Links"
   ]
  },
  {
   "cell_type": "markdown",
   "id": "4ea45449",
   "metadata": {},
   "source": [
    "*To genralize data & not overfit.*\n",
    "\n",
    "1. (Start of SMOTE) Choose random data from the minority class.\n",
    "2. Calculate the distance between the random data and its k nearest neighbors.\n",
    "3. Multiply the difference with a random number between 0 and 1, then add the result to the minority class as a synthetic sample.\n",
    "4. Repeat step number 2–3 until the desired proportion of minority class is met. (End of SMOTE)\n",
    "5. (Start of Tomek Links) Choose random data from the majority class.\n",
    "6. If the random data’s nearest neighbor is the data from the minority class (i.e. create the Tomek Link), then remove the Tomek Link."
   ]
  },
  {
   "cell_type": "markdown",
   "id": "8f943514",
   "metadata": {},
   "source": [
    "| 🔍 **Strategy**                        | ✅ **What It Helps With**                                            | ⚠️ **What It Risks**                                             |\n",
    "| -------------------------------------- | ------------------------------------------------------------------- | ---------------------------------------------------------------- |\n",
    "| **Only Oversampling (SMOTE)**          | Balances classes by **adding synthetic samples**                    | May lead to **overfitting** on noisy/duplicated minority samples |\n",
    "| **Only Undersampling (Tomek, Random)** | Reduces class imbalance by **removing majority points**             | Can **lose important information** from majority class           |\n",
    "| ✅ **SMOTE + Tomek**                    | SMOTE makes more minority examples; Tomek **cleans boundary noise** | Gives both **class balance** and **cleaner decision boundary**   |\n"
   ]
  },
  {
   "cell_type": "code",
   "execution_count": 6,
   "id": "d8f878e0",
   "metadata": {},
   "outputs": [],
   "source": [
    "from imblearn.combine import SMOTETomek"
   ]
  },
  {
   "cell_type": "code",
   "execution_count": 7,
   "id": "f3fda4f1",
   "metadata": {},
   "outputs": [],
   "source": [
    "X_smotetl,y_smotetl = SMOTETomek().fit_resample(X,y)"
   ]
  },
  {
   "cell_type": "code",
   "execution_count": 8,
   "id": "8d57c179",
   "metadata": {},
   "outputs": [
    {
     "name": "stderr",
     "output_type": "stream",
     "text": [
      "c:\\Users\\sunta\\AppData\\Local\\Programs\\Python\\Python310\\lib\\site-packages\\seaborn\\_base.py:948: FutureWarning: When grouping with a length-1 list-like, you will need to pass a length-1 tuple to get_group in a future version of pandas. Pass `(name,)` instead of `name` to silence this warning.\n",
      "  data_subset = grouped_data.get_group(pd_key)\n",
      "c:\\Users\\sunta\\AppData\\Local\\Programs\\Python\\Python310\\lib\\site-packages\\seaborn\\_base.py:948: FutureWarning: When grouping with a length-1 list-like, you will need to pass a length-1 tuple to get_group in a future version of pandas. Pass `(name,)` instead of `name` to silence this warning.\n",
      "  data_subset = grouped_data.get_group(pd_key)\n"
     ]
    },
    {
     "data": {
      "text/plain": [
       "<Axes: xlabel='HeartDisease', ylabel='count'>"
      ]
     },
     "execution_count": 8,
     "metadata": {},
     "output_type": "execute_result"
    },
    {
     "data": {
      "image/png": "[encoded data removed]",
      "text/plain": [
       "<Figure size 640x480 with 1 Axes>"
      ]
     },
     "metadata": {},
     "output_type": "display_data"
    }
   ],
   "source": [
    "sns.countplot(x=y_smotetl,hue=y_smotetl,palette='Set2')"
   ]
  },
  {
   "cell_type": "markdown",
   "id": "0dee8a14",
   "metadata": {},
   "source": [
    "*Can learn more from -https://www.kaggle.com/code/ahmadrafiee/handling-imbalanced-2-resampling-techniques/notebook#--Tackling-with-Imbalanced-Datasets:-Part-Two(Resampling-Technique-beginner-to-advance)--*"
   ]
  },
  {
   "cell_type": "markdown",
   "id": "22ecc8dc",
   "metadata": {},
   "source": []
  }
 ],
 "metadata": {
  "kernelspec": {
   "display_name": "Python 3",
   "language": "python",
   "name": "python3"
  },
  "language_info": {
   "codemirror_mode": {
    "name": "ipython",
    "version": 3
   },
   "file_extension": ".py",
   "mimetype": "text/x-python",
   "name": "python",
   "nbconvert_exporter": "python",
   "pygments_lexer": "ipython3",
   "version": "3.10.6"
  }
 },
 "nbformat": 4,
 "nbformat_minor": 5
}
