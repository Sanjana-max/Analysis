{
 "cells": [
  {
   "cell_type": "markdown",
   "id": "2e314227",
   "metadata": {},
   "source": [
    "# Random Over Sampling ( Top 5 Algorithms )"
   ]
  },
  {
   "cell_type": "markdown",
   "id": "419d7704",
   "metadata": {},
   "source": [
    "*Radom Over Sampling is a technique where you create duplicates and can possibly lead to overfitting*"
   ]
  },
  {
   "cell_type": "code",
   "execution_count": 2,
   "id": "7c4a93a4",
   "metadata": {},
   "outputs": [],
   "source": [
    "import pandas as pd\n",
    "import seaborn as sns"
   ]
  },
  {
   "cell_type": "markdown",
   "id": "4e15a609",
   "metadata": {},
   "source": [
    "*Loading data. This dataset can be found here - https://www.kaggle.com/datasets/kamilpytlak/personal-key-indicators-of-heart-disease*"
   ]
  },
  {
   "cell_type": "code",
   "execution_count": 3,
   "id": "1be3cfd0",
   "metadata": {},
   "outputs": [],
   "source": [
    "df=pd.read_csv(r\"C:\\\\Users\\\\sunta\\\\OneDrive\\\\Desktop\\\\data\\\\sampling\\\\hear_data\\\\heart_2020_cleaned.csv\")"
   ]
  },
  {
   "cell_type": "code",
   "execution_count": 4,
   "id": "406a5563",
   "metadata": {},
   "outputs": [
    {
     "data": {
      "text/html": [
       "<div>\n",
       "<style scoped>\n",
       "    .dataframe tbody tr th:only-of-type {\n",
       "        vertical-align: middle;\n",
       "    }\n",
       "\n",
       "    .dataframe tbody tr th {\n",
       "        vertical-align: top;\n",
       "    }\n",
       "\n",
       "    .dataframe thead th {\n",
       "        text-align: right;\n",
       "    }\n",
       "</style>\n",
       "<table border=\"1\" class=\"dataframe\">\n",
       "  <thead>\n",
       "    <tr style=\"text-align: right;\">\n",
       "      <th></th>\n",
       "      <th>HeartDisease</th>\n",
       "      <th>BMI</th>\n",
       "      <th>Smoking</th>\n",
       "      <th>AlcoholDrinking</th>\n",
       "      <th>Stroke</th>\n",
       "      <th>PhysicalHealth</th>\n",
       "      <th>MentalHealth</th>\n",
       "      <th>DiffWalking</th>\n",
       "      <th>Sex</th>\n",
       "      <th>AgeCategory</th>\n",
       "      <th>Race</th>\n",
       "      <th>Diabetic</th>\n",
       "      <th>PhysicalActivity</th>\n",
       "      <th>GenHealth</th>\n",
       "      <th>SleepTime</th>\n",
       "      <th>Asthma</th>\n",
       "      <th>KidneyDisease</th>\n",
       "      <th>SkinCancer</th>\n",
       "    </tr>\n",
       "  </thead>\n",
       "  <tbody>\n",
       "    <tr>\n",
       "      <th>0</th>\n",
       "      <td>No</td>\n",
       "      <td>16.60</td>\n",
       "      <td>Yes</td>\n",
       "      <td>No</td>\n",
       "      <td>No</td>\n",
       "      <td>3.0</td>\n",
       "      <td>30.0</td>\n",
       "      <td>No</td>\n",
       "      <td>Female</td>\n",
       "      <td>55-59</td>\n",
       "      <td>White</td>\n",
       "      <td>Yes</td>\n",
       "      <td>Yes</td>\n",
       "      <td>Very good</td>\n",
       "      <td>5.0</td>\n",
       "      <td>Yes</td>\n",
       "      <td>No</td>\n",
       "      <td>Yes</td>\n",
       "    </tr>\n",
       "    <tr>\n",
       "      <th>1</th>\n",
       "      <td>No</td>\n",
       "      <td>20.34</td>\n",
       "      <td>No</td>\n",
       "      <td>No</td>\n",
       "      <td>Yes</td>\n",
       "      <td>0.0</td>\n",
       "      <td>0.0</td>\n",
       "      <td>No</td>\n",
       "      <td>Female</td>\n",
       "      <td>80 or older</td>\n",
       "      <td>White</td>\n",
       "      <td>No</td>\n",
       "      <td>Yes</td>\n",
       "      <td>Very good</td>\n",
       "      <td>7.0</td>\n",
       "      <td>No</td>\n",
       "      <td>No</td>\n",
       "      <td>No</td>\n",
       "    </tr>\n",
       "    <tr>\n",
       "      <th>2</th>\n",
       "      <td>No</td>\n",
       "      <td>26.58</td>\n",
       "      <td>Yes</td>\n",
       "      <td>No</td>\n",
       "      <td>No</td>\n",
       "      <td>20.0</td>\n",
       "      <td>30.0</td>\n",
       "      <td>No</td>\n",
       "      <td>Male</td>\n",
       "      <td>65-69</td>\n",
       "      <td>White</td>\n",
       "      <td>Yes</td>\n",
       "      <td>Yes</td>\n",
       "      <td>Fair</td>\n",
       "      <td>8.0</td>\n",
       "      <td>Yes</td>\n",
       "      <td>No</td>\n",
       "      <td>No</td>\n",
       "    </tr>\n",
       "    <tr>\n",
       "      <th>3</th>\n",
       "      <td>No</td>\n",
       "      <td>24.21</td>\n",
       "      <td>No</td>\n",
       "      <td>No</td>\n",
       "      <td>No</td>\n",
       "      <td>0.0</td>\n",
       "      <td>0.0</td>\n",
       "      <td>No</td>\n",
       "      <td>Female</td>\n",
       "      <td>75-79</td>\n",
       "      <td>White</td>\n",
       "      <td>No</td>\n",
       "      <td>No</td>\n",
       "      <td>Good</td>\n",
       "      <td>6.0</td>\n",
       "      <td>No</td>\n",
       "      <td>No</td>\n",
       "      <td>Yes</td>\n",
       "    </tr>\n",
       "    <tr>\n",
       "      <th>4</th>\n",
       "      <td>No</td>\n",
       "      <td>23.71</td>\n",
       "      <td>No</td>\n",
       "      <td>No</td>\n",
       "      <td>No</td>\n",
       "      <td>28.0</td>\n",
       "      <td>0.0</td>\n",
       "      <td>Yes</td>\n",
       "      <td>Female</td>\n",
       "      <td>40-44</td>\n",
       "      <td>White</td>\n",
       "      <td>No</td>\n",
       "      <td>Yes</td>\n",
       "      <td>Very good</td>\n",
       "      <td>8.0</td>\n",
       "      <td>No</td>\n",
       "      <td>No</td>\n",
       "      <td>No</td>\n",
       "    </tr>\n",
       "  </tbody>\n",
       "</table>\n",
       "</div>"
      ],
      "text/plain": [
       "  HeartDisease    BMI Smoking AlcoholDrinking Stroke  PhysicalHealth  \\\n",
       "0           No  16.60     Yes              No     No             3.0   \n",
       "1           No  20.34      No              No    Yes             0.0   \n",
       "2           No  26.58     Yes              No     No            20.0   \n",
       "3           No  24.21      No              No     No             0.0   \n",
       "4           No  23.71      No              No     No            28.0   \n",
       "\n",
       "   MentalHealth DiffWalking     Sex  AgeCategory   Race Diabetic  \\\n",
       "0          30.0          No  Female        55-59  White      Yes   \n",
       "1           0.0          No  Female  80 or older  White       No   \n",
       "2          30.0          No    Male        65-69  White      Yes   \n",
       "3           0.0          No  Female        75-79  White       No   \n",
       "4           0.0         Yes  Female        40-44  White       No   \n",
       "\n",
       "  PhysicalActivity  GenHealth  SleepTime Asthma KidneyDisease SkinCancer  \n",
       "0              Yes  Very good        5.0    Yes            No        Yes  \n",
       "1              Yes  Very good        7.0     No            No         No  \n",
       "2              Yes       Fair        8.0    Yes            No         No  \n",
       "3               No       Good        6.0     No            No        Yes  \n",
       "4              Yes  Very good        8.0     No            No         No  "
      ]
     },
     "execution_count": 4,
     "metadata": {},
     "output_type": "execute_result"
    }
   ],
   "source": [
    "df.head()"
   ]
  },
  {
   "cell_type": "markdown",
   "id": "0f692a3a",
   "metadata": {},
   "source": [
    "*Target Variable is HeartDisease. These values are hugely imbalanced*"
   ]
  },
  {
   "cell_type": "code",
   "execution_count": 5,
   "id": "642a29d0",
   "metadata": {},
   "outputs": [
    {
     "name": "stderr",
     "output_type": "stream",
     "text": [
      "c:\\Users\\sunta\\AppData\\Local\\Programs\\Python\\Python310\\lib\\site-packages\\seaborn\\_base.py:948: FutureWarning: When grouping with a length-1 list-like, you will need to pass a length-1 tuple to get_group in a future version of pandas. Pass `(name,)` instead of `name` to silence this warning.\n",
      "  data_subset = grouped_data.get_group(pd_key)\n",
      "c:\\Users\\sunta\\AppData\\Local\\Programs\\Python\\Python310\\lib\\site-packages\\seaborn\\_base.py:948: FutureWarning: When grouping with a length-1 list-like, you will need to pass a length-1 tuple to get_group in a future version of pandas. Pass `(name,)` instead of `name` to silence this warning.\n",
      "  data_subset = grouped_data.get_group(pd_key)\n"
     ]
    },
    {
     "data": {
      "text/plain": [
       "<Axes: xlabel='HeartDisease', ylabel='count'>"
      ]
     },
     "execution_count": 5,
     "metadata": {},
     "output_type": "execute_result"
    },
    {
     "data": {
      "image/png": "[encoded data removed]",
      "text/plain": [
       "<Figure size 640x480 with 1 Axes>"
      ]
     },
     "metadata": {},
     "output_type": "display_data"
    }
   ],
   "source": [
    "sns.countplot(data=df,x='HeartDisease',hue='HeartDisease',legend=True)\n"
   ]
  },
  {
   "cell_type": "code",
   "execution_count": 6,
   "id": "b04586bf",
   "metadata": {},
   "outputs": [],
   "source": [
    "target_no,target_yes=df.HeartDisease.value_counts()"
   ]
  },
  {
   "cell_type": "markdown",
   "id": "67e2699f",
   "metadata": {},
   "source": [
    "*widely used python library*\n",
    "\n",
    "*imabalanced learn*"
   ]
  },
  {
   "cell_type": "code",
   "execution_count": 7,
   "id": "93ed0899",
   "metadata": {},
   "outputs": [],
   "source": [
    "#pip  install imbalanced-learn"
   ]
  },
  {
   "cell_type": "code",
   "execution_count": 15,
   "id": "6a78ec74",
   "metadata": {},
   "outputs": [],
   "source": [
    "X=df.drop(['HeartDisease',\"Race\"], axis=1)\n",
    "y=df['HeartDisease']"
   ]
  },
  {
   "cell_type": "code",
   "execution_count": 28,
   "id": "f1d13c10",
   "metadata": {},
   "outputs": [
    {
     "data": {
      "text/plain": [
       "<Axes: xlabel='HeartDisease', ylabel='count'>"
      ]
     },
     "execution_count": 28,
     "metadata": {},
     "output_type": "execute_result"
    },
    {
     "data": {
      "image/png": "[encoded data removed]",
      "text/plain": [
       "<Figure size 640x480 with 1 Axes>"
      ]
     },
     "metadata": {},
     "output_type": "display_data"
    }
   ],
   "source": [
    "from imblearn.over_sampling import RandomOverSampler\n",
    "X_ROS,Y_ROS = RandomOverSampler(sampling_strategy='minority').fit_resample(X,y)\n",
    "sns.countplot(x=Y_ROS)"
   ]
  },
  {
   "cell_type": "markdown",
   "id": "c6b06661",
   "metadata": {},
   "source": [
    "*Couple of important notes--*\n",
    "\n",
    "*Random Over Sampler will just duplicate the data. Not generate/synthesize new datapoints.*\n",
    "\n",
    "*Everytime you generate different data as it has randomness. Unless you set Randomstate(which produces exact same results everytime. espcl.used in debugging)*\n",
    "\n",
    "*Does not skip any data points*\n",
    "\n",
    "*X & Y always match in shape & oreder to preserve features & labels*"
   ]
  },
  {
   "cell_type": "markdown",
   "id": "c8e8e983",
   "metadata": {},
   "source": [
    "*Drawbacks-It can lead to overfitting, reducing the model's ability to generalize to new, unseen data*"
   ]
  },
  {
   "cell_type": "markdown",
   "id": "5d4c84c2",
   "metadata": {},
   "source": [
    "# SMOTE - Synthetic Minority Oversampling Technique"
   ]
  },
  {
   "cell_type": "markdown",
   "id": "81be86e6",
   "metadata": {},
   "source": [
    "*Generates synthetic data points for the minority class. This techniques helps to overcome overfitting.*"
   ]
  },
  {
   "cell_type": "code",
   "execution_count": 34,
   "id": "8fd60935",
   "metadata": {},
   "outputs": [],
   "source": [
    "from sklearn.model_selection import  cross_val_score\n",
    "# now you can import normally from model_selection\n",
    "from sklearn.metrics import accuracy_score, recall_score, precision_score, f1_score, roc_auc_score\n",
    "from sklearn.preprocessing import StandardScaler\n",
    "from sklearn.model_selection import train_test_split\n",
    "from sklearn.linear_model import LogisticRegression\n",
    "from sklearn import metrics\n",
    "from sklearn.preprocessing import LabelEncoder\n",
    "\n",
    "\n",
    "le = LabelEncoder()\n",
    "df1 = df.copy(deep = True)\n",
    "\n",
    "\n",
    "col = list(df.columns)\n",
    "categorical_features = []\n",
    "numerical_features = []\n",
    "for i in df1.columns:\n",
    "    if len(df[i].unique()) > 6:\n",
    "        numerical_features.append(i)\n",
    "    else:\n",
    "        df1[i]=le.fit_transform(df1[i])\n",
    "        categorical_features.append(i)"
   ]
  },
  {
   "cell_type": "code",
   "execution_count": 35,
   "id": "e5de50d9",
   "metadata": {},
   "outputs": [],
   "source": [
    "X=df1.drop(['HeartDisease',\"Race\"], axis=1)\n",
    "y=df1['HeartDisease']"
   ]
  },
  {
   "cell_type": "code",
   "execution_count": 38,
   "id": "59860628",
   "metadata": {},
   "outputs": [],
   "source": [
    "X = X.drop(columns=['AgeCategory'])"
   ]
  },
  {
   "cell_type": "code",
   "execution_count": 41,
   "id": "37939ba8",
   "metadata": {},
   "outputs": [
    {
     "name": "stderr",
     "output_type": "stream",
     "text": [
      "c:\\Users\\sunta\\AppData\\Local\\Programs\\Python\\Python310\\lib\\site-packages\\seaborn\\_base.py:948: FutureWarning: When grouping with a length-1 list-like, you will need to pass a length-1 tuple to get_group in a future version of pandas. Pass `(name,)` instead of `name` to silence this warning.\n",
      "  data_subset = grouped_data.get_group(pd_key)\n",
      "c:\\Users\\sunta\\AppData\\Local\\Programs\\Python\\Python310\\lib\\site-packages\\seaborn\\_base.py:948: FutureWarning: When grouping with a length-1 list-like, you will need to pass a length-1 tuple to get_group in a future version of pandas. Pass `(name,)` instead of `name` to silence this warning.\n",
      "  data_subset = grouped_data.get_group(pd_key)\n"
     ]
    },
    {
     "data": {
      "text/plain": [
       "<Axes: xlabel='HeartDisease', ylabel='count'>"
      ]
     },
     "execution_count": 41,
     "metadata": {},
     "output_type": "execute_result"
    },
    {
     "data": {
      "image/png": "[encoded data removed]",
      "text/plain": [
       "<Figure size 640x480 with 1 Axes>"
      ]
     },
     "metadata": {},
     "output_type": "display_data"
    }
   ],
   "source": [
    "from imblearn.over_sampling import SMOTE\n",
    "\n",
    "X_smote, Y_smote = SMOTE(sampling_strategy='minority').fit_resample(X,y)\n",
    "sns.countplot(x=Y_smote,hue=Y_smote)"
   ]
  },
  {
   "cell_type": "markdown",
   "id": "b1dfcb68",
   "metadata": {},
   "source": [
    "*Important notes-*\n",
    "\n",
    "*Helps balance class distribution without overfitting as much as Random Oversampling*\n",
    "\n",
    "*SMOTE does this:\n",
    "\n",
    "*Pick a random minority sample (say, A).*\n",
    "\n",
    "*Find its k nearest neighbors (e.g., B).*\n",
    "\n",
    "*Pick one of those neighbors randomly (say, B).*\n",
    "\n",
    "*Generate a synthetic sample somewhere between A and B:*\n",
    "\n",
    "*New point = A + (B - A) * δ*\n",
    "\n",
    "*Where δ is a random number between 0 and 1*\n",
    "\n",
    "*📍 Result: A new point somewhere on the line segment from A to B — not a duplicate!*"
   ]
  },
  {
   "cell_type": "markdown",
   "id": "96325900",
   "metadata": {},
   "source": [
    "*Some drawbacks*\n",
    "\n",
    "*Works only on numeric data*\n",
    "\n",
    "*Less overfitting*\n",
    "\n",
    "*Should be only be used on training dataset to avoid data leakage*"
   ]
  },
  {
   "cell_type": "markdown",
   "id": "9a377f19",
   "metadata": {},
   "source": [
    "# ADASYN (Adaptive Synthetic Algorithm for oversampling)"
   ]
  },
  {
   "cell_type": "markdown",
   "id": "bb053ff5",
   "metadata": {},
   "source": [
    "*It’s an oversampling technique like SMOTE, but more focused.\n",
    "While SMOTE generates synthetic samples evenly, ADASYN is adaptive — it generates more samples in hard-to-learn (borderline) areas.*\n",
    "\n",
    "*ADASYN focuses on balancing the data where the model struggles.*"
   ]
  },
  {
   "cell_type": "code",
   "execution_count": 42,
   "id": "70b503cc",
   "metadata": {},
   "outputs": [],
   "source": [
    "from imblearn.over_sampling import ADASYN"
   ]
  },
  {
   "cell_type": "code",
   "execution_count": 43,
   "id": "8778d416",
   "metadata": {},
   "outputs": [
    {
     "name": "stderr",
     "output_type": "stream",
     "text": [
      "c:\\Users\\sunta\\AppData\\Local\\Programs\\Python\\Python310\\lib\\site-packages\\seaborn\\_base.py:948: FutureWarning: When grouping with a length-1 list-like, you will need to pass a length-1 tuple to get_group in a future version of pandas. Pass `(name,)` instead of `name` to silence this warning.\n",
      "  data_subset = grouped_data.get_group(pd_key)\n",
      "c:\\Users\\sunta\\AppData\\Local\\Programs\\Python\\Python310\\lib\\site-packages\\seaborn\\_base.py:948: FutureWarning: When grouping with a length-1 list-like, you will need to pass a length-1 tuple to get_group in a future version of pandas. Pass `(name,)` instead of `name` to silence this warning.\n",
      "  data_subset = grouped_data.get_group(pd_key)\n"
     ]
    },
    {
     "data": {
      "text/plain": [
       "<Axes: xlabel='HeartDisease', ylabel='count'>"
      ]
     },
     "execution_count": 43,
     "metadata": {},
     "output_type": "execute_result"
    },
    {
     "data": {
      "image/png": "[encoded data removed]",
      "text/plain": [
       "<Figure size 640x480 with 1 Axes>"
      ]
     },
     "metadata": {},
     "output_type": "display_data"
    }
   ],
   "source": [
    "X_adasyn, y_adasyn = ADASYN(sampling_strategy='minority').fit_resample(X,y)\n",
    "sns.countplot(x=y_adasyn,hue=y_adasyn)"
   ]
  },
  {
   "cell_type": "markdown",
   "id": "8444d6c5",
   "metadata": {},
   "source": [
    "*Import points to notice*\n",
    "\n",
    "*Numeric values only.*\n",
    "\n",
    "*Can overfit & sensitive to noise*\n",
    "\n",
    "*Works best on binary or multiclass classification. Combine with cross-validation to make sure it is not overfitting*"
   ]
  },
  {
   "cell_type": "markdown",
   "id": "cb17619b",
   "metadata": {},
   "source": [
    "--Next SMOTE-N, SMOTE-NC"
   ]
  },
  {
   "cell_type": "markdown",
   "id": "0db5dc81",
   "metadata": {},
   "source": []
  }
 ],
 "metadata": {
  "kernelspec": {
   "display_name": "Python 3",
   "language": "python",
   "name": "python3"
  },
  "language_info": {
   "codemirror_mode": {
    "name": "ipython",
    "version": 3
   },
   "file_extension": ".py",
   "mimetype": "text/x-python",
   "name": "python",
   "nbconvert_exporter": "python",
   "pygments_lexer": "ipython3",
   "version": "3.10.6"
  }
 },
 "nbformat": 4,
 "nbformat_minor": 5
}
